{
 "cells": [
  {
   "cell_type": "markdown",
   "metadata": {},
   "source": [
    "# Teste ut chunking med kontekst fra markdown headers"
   ]
  },
  {
   "cell_type": "code",
   "execution_count": null,
   "metadata": {},
   "outputs": [],
   "source": [
    "from nks_kbs_analyse.knowledgebase import (\n",
    "    chunking_with_context,\n",
    "    clean_doc,\n",
    "    load,\n",
    "    split_documents,\n",
    ")"
   ]
  },
  {
   "cell_type": "markdown",
   "metadata": {},
   "source": [
    "## Hent dokumenter"
   ]
  },
  {
   "cell_type": "code",
   "execution_count": null,
   "metadata": {},
   "outputs": [],
   "source": [
    "docs = list(load())\n",
    "print(f\"Lastet inn {len(docs)} dokumenter\")"
   ]
  },
  {
   "cell_type": "code",
   "execution_count": null,
   "metadata": {},
   "outputs": [],
   "source": [
    "# Kjør clean_doc før splitt\n",
    "clean_docs = [clean_doc(doc) for doc in docs]"
   ]
  },
  {
   "cell_type": "markdown",
   "metadata": {},
   "source": [
    "## Sammenlign resulterende chunks med ulike mengder kontekst"
   ]
  },
  {
   "cell_type": "code",
   "execution_count": null,
   "metadata": {},
   "outputs": [],
   "source": [
    "# Velger ut én artikkel for testing\n",
    "sample_id = \"kA02o000000M7QcCAK\"\n",
    "test_docs = []\n",
    "for doc in clean_docs:\n",
    "    if doc.metadata[\"KnowledgeArticleId\"] == sample_id:\n",
    "        test_docs.append(doc)\n",
    "\n",
    "i = 0  # Velger en tilfeldig seksjon fra test-artikkelen"
   ]
  },
  {
   "cell_type": "markdown",
   "metadata": {},
   "source": [
    "### Chunks uten ekstra kontekst"
   ]
  },
  {
   "cell_type": "markdown",
   "metadata": {},
   "source": [
    "(Slik vi splitter opp tekstene fra før)"
   ]
  },
  {
   "cell_type": "code",
   "execution_count": null,
   "metadata": {},
   "outputs": [],
   "source": [
    "chunks_no_context = split_documents([test_docs[i]], chunk_size=1500, overlap=100)\n",
    "for doc in chunks_no_context:\n",
    "    print(doc.page_content)\n",
    "    print(\"--------------------------\")"
   ]
  },
  {
   "cell_type": "markdown",
   "metadata": {},
   "source": [
    "### Chunks med markdown headers som kontekst"
   ]
  },
  {
   "cell_type": "markdown",
   "metadata": {},
   "source": [
    "Ser på hvordan chunkene ser ut med markdown headers lagt til. Som default hentes headers på nivå 1, 2 og 3 ('#', '##', '###')."
   ]
  },
  {
   "cell_type": "code",
   "execution_count": null,
   "metadata": {},
   "outputs": [],
   "source": [
    "chunks_w_context = chunking_with_context([test_docs[i]], chunk_size=1500, overlap=100)\n",
    "for doc in chunks_w_context:\n",
    "    print(doc.page_content)\n",
    "    print(\"--------------------------\")"
   ]
  },
  {
   "cell_type": "markdown",
   "metadata": {},
   "source": [
    "### Chunks med markdown headers pluss annen metadata som kontekst"
   ]
  },
  {
   "cell_type": "markdown",
   "metadata": {},
   "source": [
    "Ved å sette `include_doc_preamble=True` legges også artikkeltype, tittel, tab og seksjon til i hver chunk."
   ]
  },
  {
   "cell_type": "code",
   "execution_count": null,
   "metadata": {},
   "outputs": [],
   "source": [
    "chunks_w_context2 = chunking_with_context(\n",
    "    [test_docs[i]], chunk_size=1500, overlap=100, include_doc_preamble=True\n",
    ")\n",
    "for doc in chunks_w_context2:\n",
    "    print(doc.page_content)\n",
    "    print(\"--------------------------\")"
   ]
  }
 ],
 "metadata": {
  "kernelspec": {
   "display_name": ".venv",
   "language": "python",
   "name": "python3"
  },
  "language_info": {
   "codemirror_mode": {
    "name": "ipython",
    "version": 3
   },
   "file_extension": ".py",
   "mimetype": "text/x-python",
   "name": "python",
   "nbconvert_exporter": "python",
   "pygments_lexer": "ipython3",
   "version": "3.12.2"
  }
 },
 "nbformat": 4,
 "nbformat_minor": 2
}
