{
 "cells": [
  {
   "cell_type": "markdown",
   "metadata": {},
   "source": [
    "# Analyse av dokumentsplitting for NKS kunnskapsbasen\n",
    "\n",
    "Denne notatboken utforsker hvordan man best kan splitte `LangChain` dokumentene\n",
    "som blir opprettet fra NKS sin kunnskapsbase. En god splitt er viktig fordi det\n",
    "gir bedre treffsikkerhet for KBS systemet."
   ]
  },
  {
   "cell_type": "code",
   "execution_count": null,
   "metadata": {},
   "outputs": [],
   "source": [
    "from rich.console import Console\n",
    "\n",
    "console = Console()"
   ]
  },
  {
   "cell_type": "markdown",
   "metadata": {},
   "source": [
    "## Last inn dokumenter BigQuery"
   ]
  },
  {
   "cell_type": "code",
   "execution_count": null,
   "metadata": {},
   "outputs": [],
   "source": [
    "from nks_kbs_analyse.knowledgebase import load\n",
    "\n",
    "docs = list(load())\n",
    "console.print(f\"Lastet inn {len(docs)} dokumenter\")"
   ]
  },
  {
   "cell_type": "markdown",
   "metadata": {},
   "source": [
    "## Default splitt i dag"
   ]
  },
  {
   "cell_type": "code",
   "execution_count": null,
   "metadata": {},
   "outputs": [],
   "source": [
    "from nks_kbs_analyse.knowledgebase import split_documents\n",
    "\n",
    "# MERK: 1500 kommer fra analyse utført av Beate som viste at 97% av alle\n",
    "# paragrafer er mindre eller lik 1500 tegn\n",
    "split_docs = split_documents(docs, chunk_size=1500, overlap=100)\n",
    "console.print(f\"Etter splitt er det {len(split_docs)} dokumenter\")"
   ]
  },
  {
   "cell_type": "markdown",
   "metadata": {},
   "source": [
    "Utfordringen med dagens splitt er at den resulterer i en del mindre dokumenter\n",
    "som ikke gir noe verdi og i mange tilfeller fjernes det potensielt viktig\n",
    "informasjon."
   ]
  },
  {
   "cell_type": "code",
   "execution_count": null,
   "metadata": {},
   "outputs": [],
   "source": [
    "small_docs = [doc.page_content for doc in split_docs if len(doc.page_content) <= 50]\n",
    "console.print(f\"Antall små dokumenter: {len(small_docs)}\")\n",
    "console.print(small_docs)"
   ]
  },
  {
   "cell_type": "markdown",
   "metadata": {},
   "source": [
    "## Alternative måter å splitte\n",
    "\n",
    "### Endre parameter på rekursiv splitter"
   ]
  },
  {
   "cell_type": "code",
   "execution_count": null,
   "metadata": {},
   "outputs": [],
   "source": [
    "from langchain_text_splitters import Language, RecursiveCharacterTextSplitter\n",
    "\n",
    "text_splitter = RecursiveCharacterTextSplitter.from_language(\n",
    "    language=Language.MARKDOWN, chunk_size=4000, chunk_overlap=200\n",
    ")\n",
    "split_docs = text_splitter.transform_documents(docs)\n",
    "console.print(f\"Etter splitt er det {len(split_docs)} dokumenter\")"
   ]
  },
  {
   "cell_type": "code",
   "execution_count": null,
   "metadata": {},
   "outputs": [],
   "source": [
    "small_docs = [doc.page_content for doc in split_docs if len(doc.page_content) <= 50]\n",
    "console.print(f\"Antall små dokumenter: {len(small_docs)}\")\n",
    "console.print(small_docs)"
   ]
  },
  {
   "cell_type": "markdown",
   "metadata": {},
   "source": [
    "## Prøve å vaske dokumenter før splitting"
   ]
  },
  {
   "cell_type": "code",
   "execution_count": null,
   "metadata": {},
   "outputs": [],
   "source": [
    "from langchain_core.documents import Document\n",
    "\n",
    "\n",
    "def clean_doc(doc: Document) -> Document:\n",
    "    \"\"\"Prøv å rense dokument med enkle regex-er.\"\"\"\n",
    "    import re\n",
    "\n",
    "    new_content = doc.page_content\n",
    "    # Fjerne for mange newline etter overskrift\n",
    "    new_content = re.sub(r\"(#{1,6}.*\\n)\\n+\", r\"\\1\", new_content)\n",
    "    # Fjerne newline hvis det er 3 eller flere newline på rad\n",
    "    new_content = re.sub(r\"(\\n\\n)\\s+\", r\"\\1\", new_content)\n",
    "    # Fjerne tomme markdown overskrifter\n",
    "    new_content = re.sub(r\"^#{1,6}\\s*\\n\", \"\", new_content, flags=re.MULTILINE)\n",
    "    return Document(page_content=new_content, metadata=doc.metadata)"
   ]
  },
  {
   "cell_type": "code",
   "execution_count": null,
   "metadata": {},
   "outputs": [],
   "source": [
    "clean_docs = [clean_doc(doc) for doc in docs]"
   ]
  },
  {
   "cell_type": "code",
   "execution_count": null,
   "metadata": {},
   "outputs": [],
   "source": [
    "split_clean = split_documents(clean_docs, chunk_size=1500, overlap=100)\n",
    "console.print(f\"Etter splitt er det {len(split_clean)} dokumenter\")"
   ]
  },
  {
   "cell_type": "code",
   "execution_count": null,
   "metadata": {},
   "outputs": [],
   "source": [
    "small_docs = [doc.page_content for doc in split_clean if len(doc.page_content) <= 50]\n",
    "console.print(f\"Antall små dokumenter: {len(small_docs)}\")\n",
    "console.print(small_docs)"
   ]
  },
  {
   "cell_type": "code",
   "execution_count": null,
   "metadata": {},
   "outputs": [],
   "source": []
  }
 ],
 "metadata": {
  "kernelspec": {
   "display_name": ".venv",
   "language": "python",
   "name": "python3"
  },
  "language_info": {
   "codemirror_mode": {
    "name": "ipython",
    "version": 3
   },
   "file_extension": ".py",
   "mimetype": "text/x-python",
   "name": "python",
   "nbconvert_exporter": "python",
   "pygments_lexer": "ipython3",
   "version": "3.12.6"
  }
 },
 "nbformat": 4,
 "nbformat_minor": 2
}
