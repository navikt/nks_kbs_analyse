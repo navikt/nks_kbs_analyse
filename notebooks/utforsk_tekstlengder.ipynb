{
 "cells": [
  {
   "cell_type": "markdown",
   "metadata": {},
   "source": [
    "# Notebook for utforsking av tekstlengder"
   ]
  },
  {
   "cell_type": "code",
   "execution_count": null,
   "metadata": {},
   "outputs": [],
   "source": [
    "import pandas as pd\n",
    "import plotly.express as px\n",
    "from langchain_text_splitters import RecursiveCharacterTextSplitter\n",
    "\n",
    "from nks_kbs_analyse.knowledgebase import load, split_documents"
   ]
  },
  {
   "cell_type": "code",
   "execution_count": null,
   "metadata": {},
   "outputs": [],
   "source": [
    "# Hent dokumentene fra BigQuery\n",
    "docs = load()\n",
    "\n",
    "data = []\n",
    "# Endre hvert item fra langchain Documents til dict\n",
    "for doc in docs:\n",
    "    doc_data = {\"page_content\": doc.page_content}\n",
    "    doc_data.update(doc.metadata)\n",
    "    data.append(doc_data)\n",
    "\n",
    "# Konverter listen til en pandas DataFrame\n",
    "df = pd.DataFrame(data)"
   ]
  },
  {
   "cell_type": "code",
   "execution_count": null,
   "metadata": {},
   "outputs": [],
   "source": [
    "# Antall tegn per artikkelseksjon\n",
    "df[\"char_count\"] = df[\"page_content\"].apply(len)"
   ]
  },
  {
   "cell_type": "markdown",
   "metadata": {},
   "source": [
    "## Tekstlengder på artikkelnivå"
   ]
  },
  {
   "cell_type": "code",
   "execution_count": null,
   "metadata": {},
   "outputs": [],
   "source": [
    "# For å finne total artikkellengde summeres seksjonslengdene per KnowledgeArticleId\n",
    "df_artikkel = df.groupby(\"KnowledgeArticleId\").agg({\"char_count\": \"sum\"}).reset_index()"
   ]
  },
  {
   "cell_type": "code",
   "execution_count": null,
   "metadata": {},
   "outputs": [],
   "source": [
    "df_artikkel[\"char_count\"].describe()"
   ]
  },
  {
   "cell_type": "code",
   "execution_count": null,
   "metadata": {},
   "outputs": [],
   "source": [
    "fig = px.histogram(\n",
    "    df_artikkel,\n",
    "    x=\"char_count\",\n",
    "    nbins=100,\n",
    "    title=\"Fordeling for antall tegn per artikkel\",\n",
    ")\n",
    "fig.update_layout(xaxis_title=\"Antall tegn\", yaxis_title=\"Antall artikler\")\n",
    "fig.show()"
   ]
  },
  {
   "cell_type": "code",
   "execution_count": null,
   "metadata": {},
   "outputs": [],
   "source": [
    "fig = px.ecdf(\n",
    "    df_artikkel,\n",
    "    x=\"char_count\",\n",
    "    title=\"Kumulativ fordeling for antall tegn per artikkel\",\n",
    ")\n",
    "fig.update_layout(xaxis_title=\"Antall tegn\", yaxis_title=\"Andel av artikler\")\n",
    "fig.show()"
   ]
  },
  {
   "cell_type": "code",
   "execution_count": null,
   "metadata": {},
   "outputs": [],
   "source": [
    "# Av nysgjerrighet - hva er outlieren med over 100K tegn?\n",
    "df_artikkel[df_artikkel[\"char_count\"] > 100000]"
   ]
  },
  {
   "cell_type": "markdown",
   "metadata": {},
   "source": [
    "## Tekstlengder på seksjonsnivå"
   ]
  },
  {
   "cell_type": "code",
   "execution_count": null,
   "metadata": {},
   "outputs": [],
   "source": [
    "df[\"char_count\"].describe()"
   ]
  },
  {
   "cell_type": "code",
   "execution_count": null,
   "metadata": {},
   "outputs": [],
   "source": [
    "fig = px.histogram(\n",
    "    df, x=\"char_count\", nbins=100, title=\"Fordeling for antall tegn per artikkelseksjon\"\n",
    ")\n",
    "fig.update_layout(xaxis_title=\"Antall tegn\", yaxis_title=\"Antall artikkelseksjoner\")\n",
    "fig.show()"
   ]
  },
  {
   "cell_type": "code",
   "execution_count": null,
   "metadata": {},
   "outputs": [],
   "source": [
    "fig = px.ecdf(\n",
    "    df, x=\"char_count\", title=\"Kumulativ fordeling for antall tegn per artikkelseksjon\"\n",
    ")\n",
    "fig.update_layout(xaxis_title=\"Antall tegn\", yaxis_title=\"Andel av artikkelseksjoner\")\n",
    "fig.show()"
   ]
  },
  {
   "cell_type": "markdown",
   "metadata": {},
   "source": [
    "### Seksjonslengder gruppert etter kolonne"
   ]
  },
  {
   "cell_type": "code",
   "execution_count": null,
   "metadata": {},
   "outputs": [],
   "source": [
    "fig = px.histogram(\n",
    "    df,\n",
    "    x=\"char_count\",\n",
    "    facet_col=\"ContentColumn\",\n",
    "    facet_col_wrap=3,\n",
    "    histnorm=\"percent\",\n",
    "    title=\"Fordelinger for antall tegn per artikkelseksjon gruppert\",\n",
    ")\n",
    "\n",
    "fig.update_layout(height=1000)\n",
    "fig.show()"
   ]
  },
  {
   "cell_type": "code",
   "execution_count": null,
   "metadata": {},
   "outputs": [],
   "source": [
    "fig = px.ecdf(\n",
    "    df,\n",
    "    x=\"char_count\",\n",
    "    facet_col=\"ContentColumn\",\n",
    "    facet_col_wrap=3,\n",
    "    title=\"Kumulativ fordeling for antall tegn per artikkelseksjon gruppert\",\n",
    ")\n",
    "fig.update_layout(height=1000)\n",
    "fig.show()"
   ]
  },
  {
   "cell_type": "markdown",
   "metadata": {},
   "source": [
    "## Paragrafnivå"
   ]
  },
  {
   "cell_type": "markdown",
   "metadata": {},
   "source": [
    "Hvis vi definerer at en ny paragraf starter etter dobbel linjeskift..."
   ]
  },
  {
   "cell_type": "code",
   "execution_count": null,
   "metadata": {},
   "outputs": [],
   "source": [
    "df[\"paragrafer\"] = df[\"page_content\"].str.split(\"\\n\\n\", expand=False)"
   ]
  },
  {
   "cell_type": "code",
   "execution_count": null,
   "metadata": {},
   "outputs": [],
   "source": [
    "def find_pragraph_lengths(text):\n",
    "    \"\"\"Hjelpefunksjon for å finne lengde per paragraf.\"\"\"\n",
    "    paragraphs = text.split(\"\\n\\n\")\n",
    "    return [len(paragraph) for paragraph in paragraphs]\n",
    "\n",
    "\n",
    "df[\"paragraph_lengths\"] = df[\"page_content\"].apply(find_pragraph_lengths)"
   ]
  },
  {
   "cell_type": "code",
   "execution_count": null,
   "metadata": {},
   "outputs": [],
   "source": [
    "# Flatten the lists in the 'paragraph_lengths' column\n",
    "flattened_lengths = [\n",
    "    length for sublist in df[\"paragraph_lengths\"] for length in sublist\n",
    "]\n",
    "\n",
    "# Create a new DataFrame from the flattened list\n",
    "flattened_df = pd.DataFrame({\"paragraph_lengths\": flattened_lengths})"
   ]
  },
  {
   "cell_type": "code",
   "execution_count": null,
   "metadata": {},
   "outputs": [],
   "source": [
    "fig = px.histogram(\n",
    "    flattened_df, x=\"paragraph_lengths\", title=\"Fordeling for antall tegn per paragraf\"\n",
    ")\n",
    "fig.show()"
   ]
  },
  {
   "cell_type": "code",
   "execution_count": null,
   "metadata": {},
   "outputs": [],
   "source": [
    "fig = px.ecdf(\n",
    "    flattened_df,\n",
    "    x=\"paragraph_lengths\",\n",
    "    title=\"Kumulativ fordeling for antall tegn per paragraf\",\n",
    ")\n",
    "fig.show()"
   ]
  },
  {
   "cell_type": "markdown",
   "metadata": {},
   "source": [
    "## Lengder per dokument slik vi splitter dem i dag"
   ]
  },
  {
   "cell_type": "code",
   "execution_count": null,
   "metadata": {},
   "outputs": [],
   "source": [
    "docs = list(load())\n",
    "split_docs = split_documents(list(docs), chunk_size=1500, overlap=100)\n",
    "len(split_docs)"
   ]
  },
  {
   "cell_type": "code",
   "execution_count": null,
   "metadata": {},
   "outputs": [],
   "source": [
    "flattened_split_docs = pd.DataFrame(\n",
    "    {\"split_doc_lengths\": [len(doc.page_content) for doc in split_docs]}\n",
    ")"
   ]
  },
  {
   "cell_type": "code",
   "execution_count": null,
   "metadata": {},
   "outputs": [],
   "source": [
    "fig = px.histogram(\n",
    "    flattened_split_docs,\n",
    "    x=\"split_doc_lengths\",\n",
    "    title=\"Fordeling for antall tegn per splittet dokument\",\n",
    ")\n",
    "fig.update_layout(\n",
    "    xaxis_title=\"Antall tegn\", yaxis_title=\"Antall dokumenter(etter splitting)\"\n",
    ")\n",
    "fig.show()"
   ]
  },
  {
   "cell_type": "code",
   "execution_count": null,
   "metadata": {},
   "outputs": [],
   "source": [
    "fig = px.ecdf(\n",
    "    flattened_split_docs,\n",
    "    x=\"split_doc_lengths\",\n",
    "    title=\"Kumulativ fordeling for antall tegn per splittet dokument\",\n",
    ")\n",
    "fig.update_layout(\n",
    "    xaxis_title=\"Antall tegn\", yaxis_title=\"Andel av dokumentene (etter splitting)\"\n",
    ")\n",
    "fig.show()"
   ]
  },
  {
   "cell_type": "code",
   "execution_count": null,
   "metadata": {},
   "outputs": [],
   "source": [
    "# Inspiserer innholdet i de korteste dokumentene\n",
    "[doc.page_content for doc in split_docs if len(doc.page_content) < 50]"
   ]
  },
  {
   "cell_type": "markdown",
   "metadata": {},
   "source": [
    "## Utforske andre konfigurasjoner av splitteren"
   ]
  },
  {
   "cell_type": "code",
   "execution_count": null,
   "metadata": {},
   "outputs": [],
   "source": [
    "# Tar bort markdown language\n",
    "text_splitter = RecursiveCharacterTextSplitter(chunk_size=1500, chunk_overlap=100)"
   ]
  },
  {
   "cell_type": "code",
   "execution_count": null,
   "metadata": {},
   "outputs": [],
   "source": [
    "# Inspiserer innholdet i de korteste dokumentene på nytt\n",
    "[doc.page_content for doc in split_docs if len(doc.page_content) < 50]"
   ]
  }
 ],
 "metadata": {
  "kernelspec": {
   "display_name": ".venv",
   "language": "python",
   "name": "python3"
  },
  "language_info": {
   "codemirror_mode": {
    "name": "ipython",
    "version": 3
   },
   "file_extension": ".py",
   "mimetype": "text/x-python",
   "name": "python",
   "nbconvert_exporter": "python",
   "pygments_lexer": "ipython3",
   "version": "3.12.2"
  }
 },
 "nbformat": 4,
 "nbformat_minor": 2
}
