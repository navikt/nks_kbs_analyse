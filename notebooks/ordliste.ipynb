{
 "cells": [
  {
   "cell_type": "markdown",
   "metadata": {},
   "source": [
    "# Håndter ordliste\n",
    "\n",
    "Denne notatboken inneholder en oppskrift på tolkning av rå copy-paste fra\n",
    "Sharepoint og overføring til BigQuery for strukturert aksess.\n",
    "\n",
    "---\n",
    "\n",
    "NAV Kontaktsenter holder en [ordliste med oversettelser fra norsk til engelsk på\n",
    "Sharepoint](https://navno.sharepoint.com/sites/enhet-kontaktsenter/SitePages/Ordliste-Norsk-Engelsk.aspx).\n",
    "\n",
    "Ordlisten kan kopieres inn med copy-past, men kan kreve litt manuelt arbeid for\n",
    "å kunne automatisk prosessere. Notatboken vil varsle hvilke linjer som må fikses\n",
    "hvis den ikke kan tolke ordlisten.\n",
    "\n",
    "Notatboken forventer følgende format (**merk** at det er `<tab>` mellom ordet og\n",
    "oversettelsen):\n",
    "\n",
    "```raw\n",
    "<norsk>\\t<engelsk>\\n\n",
    "```"
   ]
  },
  {
   "cell_type": "code",
   "execution_count": null,
   "metadata": {
    "tags": [
     "parameters"
    ]
   },
   "outputs": [],
   "source": [
    "# Parametere for notatboken\n",
    "verbose = False\n",
    "\"\"\"Skriv ut ekstra informasjon\"\"\"\n",
    "\n",
    "# BigQuery parametere\n",
    "project = \"nks-aiautomatisering-prod-194a\"\n",
    "dataset = \"kunnskapsbase\"\n",
    "table = \"ordliste\""
   ]
  },
  {
   "cell_type": "code",
   "execution_count": null,
   "metadata": {},
   "outputs": [],
   "source": [
    "# Oppsett for Rich slik at vi kan printe ut med farger\n",
    "from rich.console import Console\n",
    "\n",
    "console = Console()"
   ]
  },
  {
   "cell_type": "markdown",
   "metadata": {},
   "source": [
    "## Les inn rådata"
   ]
  },
  {
   "cell_type": "code",
   "execution_count": null,
   "metadata": {},
   "outputs": [],
   "source": [
    "import pathlib\n",
    "\n",
    "data_folder = pathlib.Path(\"../data\")\n",
    "potential = list(data_folder.glob(\"ordliste_*.txt\"))\n",
    "# TODO: La bruker velge selv, akkurat nå tar vi den nyeste\n",
    "selected = sorted(potential)[-1]"
   ]
  },
  {
   "cell_type": "markdown",
   "metadata": {},
   "source": [
    "Vi antar at hver linje inneholder en oversettelse med det norske ordet skilt fra\n",
    "det engelske med en `<tab>`."
   ]
  },
  {
   "cell_type": "code",
   "execution_count": null,
   "metadata": {},
   "outputs": [],
   "source": [
    "raw_list = open(selected).read()\n",
    "raw_list = raw_list.split(\"\\n\")\n",
    "raw_list = [trans.split(\"\\t\", maxsplit=1) for trans in raw_list if trans.strip()]"
   ]
  },
  {
   "cell_type": "markdown",
   "metadata": {},
   "source": [
    "Etter prosessering, hvis en linje ikke inneholder 2 termer så ber vi bruker om å\n",
    "fikse disse linjene."
   ]
  },
  {
   "cell_type": "code",
   "execution_count": null,
   "metadata": {},
   "outputs": [],
   "source": [
    "need_fix = [\n",
    "    (i, trans)\n",
    "    for i, trans in enumerate(raw_list)\n",
    "    if len(trans) == 1 or any([e.strip() == \"\" for e in trans])\n",
    "]\n",
    "if need_fix:\n",
    "    from rich.table import Table\n",
    "\n",
    "    console.print(f\"Følgende oversettelser må fikses i [magenta]'{selected}'[/]:\")\n",
    "    fix_table = Table(\"Linje\", \"Tekst på linjen\")\n",
    "    for idx, word in need_fix:\n",
    "        fix_table.add_row(str(idx), word[0])\n",
    "    console.print(fix_table)\n",
    "assert not need_fix, \"Ordliste må fikses før den kan prosesseres\""
   ]
  },
  {
   "cell_type": "markdown",
   "metadata": {},
   "source": [
    "## Liste med oversettelser"
   ]
  },
  {
   "cell_type": "code",
   "execution_count": null,
   "metadata": {},
   "outputs": [],
   "source": [
    "translation = [(nor.strip(), eng.strip()) for nor, eng in raw_list]\n",
    "console.print(\n",
    "    f\"Fant [blue bold]{len(translation)}[/] oversettelser i ordliste [magenta]{selected}[/]\"\n",
    ")"
   ]
  },
  {
   "cell_type": "code",
   "execution_count": null,
   "metadata": {},
   "outputs": [],
   "source": [
    "from rich.table import Table\n",
    "\n",
    "trans_table = Table(\"Norsk\", \"Engelsk\", title=\"NKS Ordliste\")\n",
    "for nor, eng in translation:\n",
    "    trans_table.add_row(nor, eng)\n",
    "if verbose:\n",
    "    console.print(trans_table)"
   ]
  },
  {
   "cell_type": "markdown",
   "metadata": {},
   "source": [
    "## Generere forslag til oversettelse\n",
    "\n",
    "For å enklere kunne vurdere om et ord i ordlisten burde eksistere genererer vi\n",
    "her en oversettelse fra en språkmodell for å se om den er forskjellig fra\n",
    "oversettelsen gitt i ordlisten."
   ]
  },
  {
   "cell_type": "code",
   "execution_count": null,
   "metadata": {},
   "outputs": [],
   "source": [
    "import os\n",
    "\n",
    "from dotenv import load_dotenv\n",
    "\n",
    "load_dotenv(verbose=True)\n",
    "assert (\n",
    "    \"AZURE_OPENAI_ENDPOINT\" in os.environ\n",
    "), \"Mangler Azure endpoint som miljøvariabel!\"\n",
    "assert (\n",
    "    \"AZURE_OPENAI_API_KEY\" in os.environ\n",
    "), \"Mangler Azure API nøkkel som miljøvariabel!\""
   ]
  },
  {
   "cell_type": "code",
   "execution_count": null,
   "metadata": {},
   "outputs": [],
   "source": [
    "from langchain_core.output_parsers import StrOutputParser\n",
    "from langchain_core.prompts import ChatPromptTemplate\n",
    "from langchain_openai import AzureChatOpenAI\n",
    "\n",
    "llm = AzureChatOpenAI(\n",
    "    api_version=\"2023-03-15-preview\", azure_deployment=\"gpt-4o-mini\", temperature=0.0\n",
    ")\n",
    "prompt = \"\"\"You are an automatic translator from Norwegian to English. \\\n",
    "You will be given a word or a phrase and must translate the input into English. \\\n",
    "When translating you must answer with just the translation of the input and \\\n",
    "nothing else.\"\"\"\n",
    "translation_prompt = ChatPromptTemplate.from_messages(\n",
    "    [(\"system\", prompt), (\"human\", \"Translate the following: '{input}'\")]\n",
    ")\n",
    "translator = translation_prompt | llm | StrOutputParser()"
   ]
  },
  {
   "cell_type": "code",
   "execution_count": null,
   "metadata": {},
   "outputs": [],
   "source": [
    "from itertools import batched\n",
    "\n",
    "from rich.progress import Progress\n",
    "\n",
    "suggested: list[tuple[str, str]] = []\n",
    "with Progress(console=console) as progress:\n",
    "    translate_task = progress.add_task(\n",
    "        \"Oversetter med språkmodell\", total=len(translation)\n",
    "    )\n",
    "    for batch in batched(translation, n=10):\n",
    "        norwegian = [nor for nor, _ in batch]\n",
    "        try:\n",
    "            suggested.extend(\n",
    "                zip(norwegian, translator.batch([{\"input\": nor} for nor in norwegian]))\n",
    "            )\n",
    "        except ValueError:\n",
    "            console.print(f\"[bold red]Azure ville ikke oversette:[/] {batch}\")\n",
    "            for nor, _ in batch:\n",
    "                try:\n",
    "                    suggested.append((nor, translator.invoke({\"input\": nor})))\n",
    "                except ValueError:\n",
    "                    console.print(f\"[bold red]Fikk ikke lov til å oversette:[/] {nor}\")\n",
    "        progress.update(translate_task, advance=len(batch))"
   ]
  },
  {
   "cell_type": "code",
   "execution_count": null,
   "metadata": {},
   "outputs": [],
   "source": [
    "suggested = {nor: eng.strip(\"'\") for nor, eng in suggested}"
   ]
  },
  {
   "cell_type": "markdown",
   "metadata": {},
   "source": [
    "## Opplasting til BigQuery"
   ]
  },
  {
   "cell_type": "code",
   "execution_count": null,
   "metadata": {},
   "outputs": [],
   "source": [
    "from google.cloud import bigquery\n",
    "\n",
    "client = bigquery.Client(project=project)\n",
    "table_id = f\"{project}.{dataset}.{table}\""
   ]
  },
  {
   "cell_type": "code",
   "execution_count": null,
   "metadata": {},
   "outputs": [],
   "source": [
    "table_id"
   ]
  },
  {
   "cell_type": "markdown",
   "metadata": {},
   "source": [
    "Før opplasting til BigQuery må vi passe på at skjemaet på BigQuery er definert\n",
    "og slik vi forventer."
   ]
  },
  {
   "cell_type": "code",
   "execution_count": null,
   "metadata": {},
   "outputs": [],
   "source": [
    "from google.cloud.bigquery import SchemaField\n",
    "\n",
    "# Database skjema på BigQuery\n",
    "schema = [\n",
    "    SchemaField(\n",
    "        \"uploaded\", \"DATETIME\", mode=\"REQUIRED\", description=\"Tidspunkt for opplasting\"\n",
    "    ),\n",
    "    SchemaField(\n",
    "        \"norwegian\",\n",
    "        field_type=\"STRING\",\n",
    "        mode=\"REQUIRED\",\n",
    "        description=\"Det norske ordet\",\n",
    "    ),\n",
    "    SchemaField(\n",
    "        \"english\",\n",
    "        field_type=\"STRING\",\n",
    "        mode=\"REQUIRED\",\n",
    "        description=\"Den engelske oversettelsen\",\n",
    "    ),\n",
    "    SchemaField(\n",
    "        \"llm_suggestion\",\n",
    "        field_type=\"STRING\",\n",
    "        description=\"Forslag til oversettelse fra språkmodell\",\n",
    "    ),\n",
    "]"
   ]
  },
  {
   "cell_type": "code",
   "execution_count": null,
   "metadata": {},
   "outputs": [],
   "source": [
    "# Opprett database hvis den ikke allerede finnes\n",
    "table_ref = bigquery.TableReference.from_string(table_id=table_id)\n",
    "table = client.create_table(table_ref, exists_ok=True)\n",
    "if not table.schema:\n",
    "    table.schema = schema\n",
    "    client.update_table(table, fields=[\"schema\"])\n",
    "    console.print(f\"Opprettet/Endret database '{table.full_table_id}'\")\n",
    "else:\n",
    "    console.print(\"Spørsmålsdatabase eksisterer allerede\")"
   ]
  },
  {
   "cell_type": "markdown",
   "metadata": {},
   "source": [
    "Når vi vet at tabellen eksisterer så kan vi forberede data for opplasting."
   ]
  },
  {
   "cell_type": "code",
   "execution_count": null,
   "metadata": {},
   "outputs": [],
   "source": [
    "import datetime\n",
    "\n",
    "upload = datetime.datetime.now(datetime.UTC)\n",
    "data_to_upload = [\n",
    "    {\n",
    "        \"uploaded\": upload,\n",
    "        \"norwegian\": nor,\n",
    "        \"english\": eng,\n",
    "        \"llm_suggestion\": suggested.get(nor, None),\n",
    "    }\n",
    "    for nor, eng in translation\n",
    "]"
   ]
  },
  {
   "cell_type": "code",
   "execution_count": null,
   "metadata": {},
   "outputs": [],
   "source": [
    "from rich.prompt import Confirm\n",
    "\n",
    "if Confirm.ask(\n",
    "    f\"Vil du laste opp [bold blue]{len(data_to_upload)}[/] rader?\", console=console\n",
    "):\n",
    "    errors = client.insert_rows(\n",
    "        table=table_id, rows=data_to_upload, selected_fields=schema\n",
    "    )\n",
    "    if errors:\n",
    "        console.print(\"[bold red]Opplasting av ordliste feilet!\")\n",
    "        console.print(f\"\\tFeil: {errors}\")\n",
    "    else:\n",
    "        console.print(\"[bold green]Opplasting fullført!\")\n",
    "else:\n",
    "    console.print(\"[yellow bold]Hoppet over opplasting\")"
   ]
  },
  {
   "cell_type": "code",
   "execution_count": null,
   "metadata": {},
   "outputs": [],
   "source": []
  }
 ],
 "metadata": {
  "kernelspec": {
   "display_name": ".venv",
   "language": "python",
   "name": "python3"
  },
  "language_info": {
   "codemirror_mode": {
    "name": "ipython",
    "version": 3
   },
   "file_extension": ".py",
   "mimetype": "text/x-python",
   "name": "python",
   "nbconvert_exporter": "python",
   "pygments_lexer": "ipython3",
   "version": "3.12.6"
  }
 },
 "nbformat": 4,
 "nbformat_minor": 2
}
