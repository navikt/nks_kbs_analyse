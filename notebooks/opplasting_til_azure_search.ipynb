{
 "cells": [
  {
   "cell_type": "markdown",
   "metadata": {},
   "source": [
    "# Notebook for å teste azure search funksjonalitet"
   ]
  },
  {
   "cell_type": "code",
   "execution_count": null,
   "metadata": {},
   "outputs": [],
   "source": [
    "from datetime import datetime\n",
    "from itertools import batched\n",
    "\n",
    "from nks_kbs_analyse.azure_search import create_store\n",
    "from nks_kbs_analyse.knowledgebase import clean_doc, load, split_documents"
   ]
  },
  {
   "cell_type": "markdown",
   "metadata": {},
   "source": [
    "## Hent dokumenter fra BigQuery"
   ]
  },
  {
   "cell_type": "code",
   "execution_count": null,
   "metadata": {},
   "outputs": [],
   "source": [
    "# Hent dokumenter fra kunnskapsbasen\n",
    "\n",
    "## merk - før denne kjøringen kommenterte vi ut en del kolonner\n",
    "## (beholdt kun de vi har eksisterende testspørsmål for)\n",
    "docs = list(load())\n",
    "num_docs = len(docs)"
   ]
  },
  {
   "cell_type": "code",
   "execution_count": null,
   "metadata": {},
   "outputs": [],
   "source": [
    "# Fjerne div. overflødige newline-tegn\n",
    "cleaned_docs = [clean_doc(doc) for doc in docs]"
   ]
  },
  {
   "cell_type": "markdown",
   "metadata": {},
   "source": [
    "Fikser litt på metadataene:"
   ]
  },
  {
   "cell_type": "code",
   "execution_count": null,
   "metadata": {},
   "outputs": [],
   "source": [
    "# Legg til opplastingtidspunkt på alle dokumenter\n",
    "today = datetime.today().isoformat()\n",
    "for doc in cleaned_docs:\n",
    "    doc.metadata[\"EmbeddingCreation\"] = today\n",
    "# azure-implementasjon har foreløpig kun støtte for string-metadata\n",
    "for doc in cleaned_docs:\n",
    "    for k, v in doc.metadata.items():\n",
    "        if isinstance(v, datetime):\n",
    "            v = v.isoformat()\n",
    "        elif isinstance(v, int):\n",
    "            v = str(v)\n",
    "        doc.metadata[k] = v"
   ]
  },
  {
   "cell_type": "markdown",
   "metadata": {},
   "source": [
    "## Chunk size 1500, overlap 100"
   ]
  },
  {
   "cell_type": "code",
   "execution_count": null,
   "metadata": {},
   "outputs": [],
   "source": [
    "# husk å sette riktig navn på search-instans i settings.py før du kjører denne\n",
    "store = create_store()"
   ]
  },
  {
   "cell_type": "code",
   "execution_count": null,
   "metadata": {},
   "outputs": [],
   "source": [
    "splits = split_documents(cleaned_docs, chunk_size=1500, overlap=100)\n",
    "print(\"Laster opp dokumenter\")\n",
    "# batcher opplastingen av dokumentene\n",
    "ids = []\n",
    "for batch in batched(splits, 500):\n",
    "    batch_ids = store.add_documents(batch)\n",
    "    ids.extend(batch_ids)\n",
    "print(f\"Lastet opp {num_docs} dokumenter, totalt {len(ids)} tekster\")"
   ]
  },
  {
   "cell_type": "markdown",
   "metadata": {},
   "source": [
    "## Chunk size 4000, overlap 200"
   ]
  },
  {
   "cell_type": "code",
   "execution_count": null,
   "metadata": {},
   "outputs": [],
   "source": [
    "# husk å sette riktig navn på search-instans i settings.py før du kjører denne\n",
    "store = create_store()"
   ]
  },
  {
   "cell_type": "code",
   "execution_count": null,
   "metadata": {},
   "outputs": [],
   "source": [
    "splits = split_documents(cleaned_docs, chunk_size=4000, overlap=200)\n",
    "print(\"Laster opp dokumenter\")\n",
    "# batcher opplastingen av dokumentene\n",
    "ids = []\n",
    "for batch in batched(splits, 500):\n",
    "    batch_ids = store.add_documents(batch)\n",
    "    ids.extend(batch_ids)\n",
    "print(f\"Lastet opp {num_docs} dokumenter, totalt {len(ids)} tekster\")"
   ]
  },
  {
   "cell_type": "markdown",
   "metadata": {},
   "source": [
    "## For å tømme en indeks"
   ]
  },
  {
   "cell_type": "code",
   "execution_count": null,
   "metadata": {},
   "outputs": [],
   "source": [
    "# store.clear()"
   ]
  }
 ],
 "metadata": {
  "kernelspec": {
   "display_name": ".venv",
   "language": "python",
   "name": "python3"
  },
  "language_info": {
   "codemirror_mode": {
    "name": "ipython",
    "version": 3
   },
   "file_extension": ".py",
   "mimetype": "text/x-python",
   "name": "python",
   "nbconvert_exporter": "python",
   "pygments_lexer": "ipython3",
   "version": "3.12.2"
  }
 },
 "nbformat": 4,
 "nbformat_minor": 2
}
